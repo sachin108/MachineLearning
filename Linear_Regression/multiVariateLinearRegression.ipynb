{
 "cells": [
  {
   "cell_type": "code",
   "execution_count": 3,
   "source": [
    "#linear regression using multiple variables. \n",
    "#In this case, rather than plotting a line, you’re plotting a plane in multiple dimensions.\n",
    "#The phenomenon is still referred to as linear since the data grows at a linear rate.\n",
    "import pandas as pd\n",
    "import seaborn as sb\n",
    "import matplotlib.pyplot as plot\n",
    "from sklearn.model_selection import train_test_split\n",
    "from sklearn.metrics import mean_squared_error, r2_score\n",
    "from sklearn.linear_model import LinearRegression\n"
   ],
   "outputs": [],
   "metadata": {}
  },
  {
   "cell_type": "code",
   "execution_count": 11,
   "source": [
    "dataset=pd.read_csv('insurance.csv')\n",
    "non_smokers=dataset[dataset['smoker']=='no']\n"
   ],
   "outputs": [],
   "metadata": {}
  },
  {
   "cell_type": "code",
   "execution_count": 14,
   "source": [
    "x=non_smokers[['age', 'bmi']]\n",
    "y=non_smokers['charges']\n"
   ],
   "outputs": [],
   "metadata": {}
  },
  {
   "cell_type": "code",
   "execution_count": 15,
   "source": [
    "x_train, x_test, y_train, y_test=train_test_split(x, y, shuffle=True, train_size=0.3)"
   ],
   "outputs": [],
   "metadata": {}
  },
  {
   "cell_type": "code",
   "execution_count": 16,
   "source": [
    "multiVar_model=LinearRegression()\n",
    "multiVar_model.fit(x_train, y_train)"
   ],
   "outputs": [
    {
     "output_type": "execute_result",
     "data": {
      "text/plain": [
       "LinearRegression()"
      ]
     },
     "metadata": {},
     "execution_count": 16
    }
   ],
   "metadata": {}
  },
  {
   "cell_type": "code",
   "execution_count": 19,
   "source": [
    "predictions=multiVar_model.predict(x_test)\n",
    "r2=r2_score(y_test, predictions)\n",
    "rmse=mean_squared_error(y_test, predictions, squared=False)\n",
    "print(r2)\n",
    "print(rmse)"
   ],
   "outputs": [
    {
     "output_type": "stream",
     "name": "stdout",
     "text": [
      "0.3681154395347175\n",
      "4759.375911432801\n"
     ]
    }
   ],
   "metadata": {}
  },
  {
   "cell_type": "code",
   "execution_count": null,
   "source": [
    "'''\n",
    "predict() must follow fit(). fit() builds a model that tries to find a pattern that maps input \n",
    "data to the labels. At this stage the input data is called the training set. \n",
    "predict() simply asks your trained model to use those patterns to map new inputs to their labels. \n",
    "They are the model's best guess, given what it was previously trained on, not random. \n",
    "Optimizing the quality of those patterns so that the predictions are as accurate as possible is \n",
    "the whole art and science of machine learning.\n",
    "\n",
    "Imagine I wanted to make you an expert at identifying cat breed. At first you might have no idea. \n",
    "So first I have to train you. I show you a bunch of pictures and tell you what each cat \n",
    "breed is (label). After a while, you start to see patterns and you take notes. Eventually you \n",
    "start to feel like you get even the finer distinctions and feel ready to identify the cat breed\n",
    "of any cat shown to you. Your new knowledge is called a model. This is what fit() does. \n",
    "It builds a model through training.\n",
    "\n",
    "Now I start showing you pictures of cats without telling you the breed (label). \n",
    "Using your new knowledge, notes and patterns (i.e. your model), you can now \"predict\" the \n",
    "breed of a cat you haven't seen before (provided it's one of the breeds you've learned about \n",
    "during training). This is what predict() does. It runs data through the model to get predictions.\n",
    "\n",
    "'''"
   ],
   "outputs": [],
   "metadata": {}
  },
  {
   "cell_type": "code",
   "execution_count": 40,
   "source": [
    "#Creating new Variables\n",
    "dataset['Smoker_int']=dataset['smoker'].map({'yes':1, 'no':0})\n",
    "x=dataset[['age', 'bmi', 'Smoker_int']]\n",
    "y=dataset['charges']"
   ],
   "outputs": [],
   "metadata": {}
  },
  {
   "cell_type": "code",
   "execution_count": 41,
   "source": [
    "x_train, x_test, y_train, y_test=train_test_split(x, y, shuffle=True, train_size=0.3)\n",
    "multiVar_model2=LinearRegression()\n",
    "multiVar_model2.fit(x_train, y_train)"
   ],
   "outputs": [
    {
     "output_type": "execute_result",
     "data": {
      "text/plain": [
       "LinearRegression()"
      ]
     },
     "metadata": {},
     "execution_count": 41
    }
   ],
   "metadata": {}
  },
  {
   "cell_type": "code",
   "execution_count": 50,
   "source": [
    "predictions=multiVar_model2.predict(x_test)\n",
    "r2=r2_score(y_test, predictions)\n",
    "rmse=mean_squared_error(y_test, predictions, squared=False)"
   ],
   "outputs": [],
   "metadata": {}
  },
  {
   "cell_type": "code",
   "execution_count": 61,
   "source": [
    "print(r2)\n",
    "print(rmse)"
   ],
   "outputs": [
    {
     "output_type": "stream",
     "name": "stdout",
     "text": [
      "0.7557561893584342\n",
      "5938.276198490477\n"
     ]
    }
   ],
   "metadata": {}
  },
  {
   "cell_type": "code",
   "execution_count": 57,
   "source": [
    "#If you’re satisfied with the data, you can actually turn the linear model into a function. \n",
    "# With this function, you can then pass in new data points to make predictions about what a person’s charges may be.\n",
    "#The model has two attributes:\n",
    " #   .coef_ which stores an array of the coefficients of our model\n",
    " #   .intercept_ which stores the y-intercept of our linear model\n",
    "coefficients=multiVar_model2.coef_\n",
    "intercept=multiVar_model2.intercept_\n",
    "print(coefficients)\n",
    "# 3 coeffs.. because we have 3 dependent variables and 1 independent var \n",
    "print(intercept)"
   ],
   "outputs": [
    {
     "output_type": "stream",
     "name": "stdout",
     "text": [
      "[  277.79989422   381.24916954 23001.28195803]\n",
      "-13867.302318147033\n"
     ]
    }
   ],
   "metadata": {}
  },
  {
   "cell_type": "code",
   "execution_count": 62,
   "source": [
    "def calculate_charges(age, bmi, smoker):\n",
    "  return (age * coefficients[0]) + (bmi * coefficients[1]) + (smoker * coefficients[2]) + intercept\n",
    "  # y = (m1*x1)+(m2*x2)+(m3*x3) + c"
   ],
   "outputs": [],
   "metadata": {}
  },
  {
   "cell_type": "code",
   "execution_count": 65,
   "source": [
    "#NOW WE CAN MAKE PREDICTIONS\n",
    "print(calculate_charges(19, 22.9, 0))\n",
    "# the person would likely have just under $141 of charges of insurance!"
   ],
   "outputs": [
    {
     "output_type": "stream",
     "name": "stdout",
     "text": [
      "141.50165456571813\n"
     ]
    }
   ],
   "metadata": {}
  }
 ],
 "metadata": {
  "orig_nbformat": 4,
  "language_info": {
   "name": "python",
   "version": "3.8.10",
   "mimetype": "text/x-python",
   "codemirror_mode": {
    "name": "ipython",
    "version": 3
   },
   "pygments_lexer": "ipython3",
   "nbconvert_exporter": "python",
   "file_extension": ".py"
  },
  "kernelspec": {
   "name": "python3",
   "display_name": "Python 3.8.10 64-bit"
  },
  "interpreter": {
   "hash": "916dbcbb3f70747c44a77c7bcd40155683ae19c65e1c03b4aa3499c5328201f1"
  }
 },
 "nbformat": 4,
 "nbformat_minor": 2
}