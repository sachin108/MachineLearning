{
 "cells": [
  {
   "cell_type": "code",
   "execution_count": 4,
   "source": [
    "import numpy as np\n",
    "import pandas as pd\n",
    "import seaborn as sb\n",
    "import matplotlib.pyplot as plot\n",
    "%matplotlib inline"
   ],
   "outputs": [],
   "metadata": {}
  },
  {
   "cell_type": "code",
   "execution_count": 5,
   "source": [
    "col = [ 'Class Name','Left weight','Left distance','Right weight','Right distance']\n",
    "df=pd.read_csv('balance-scale.data', names=col, sep=',')\n",
    "df.head()"
   ],
   "outputs": [
    {
     "output_type": "execute_result",
     "data": {
      "text/html": [
       "<div>\n",
       "<style scoped>\n",
       "    .dataframe tbody tr th:only-of-type {\n",
       "        vertical-align: middle;\n",
       "    }\n",
       "\n",
       "    .dataframe tbody tr th {\n",
       "        vertical-align: top;\n",
       "    }\n",
       "\n",
       "    .dataframe thead th {\n",
       "        text-align: right;\n",
       "    }\n",
       "</style>\n",
       "<table border=\"1\" class=\"dataframe\">\n",
       "  <thead>\n",
       "    <tr style=\"text-align: right;\">\n",
       "      <th></th>\n",
       "      <th>Class Name</th>\n",
       "      <th>Left weight</th>\n",
       "      <th>Left distance</th>\n",
       "      <th>Right weight</th>\n",
       "      <th>Right distance</th>\n",
       "    </tr>\n",
       "  </thead>\n",
       "  <tbody>\n",
       "    <tr>\n",
       "      <th>0</th>\n",
       "      <td>B</td>\n",
       "      <td>1</td>\n",
       "      <td>1</td>\n",
       "      <td>1</td>\n",
       "      <td>1</td>\n",
       "    </tr>\n",
       "    <tr>\n",
       "      <th>1</th>\n",
       "      <td>R</td>\n",
       "      <td>1</td>\n",
       "      <td>1</td>\n",
       "      <td>1</td>\n",
       "      <td>2</td>\n",
       "    </tr>\n",
       "    <tr>\n",
       "      <th>2</th>\n",
       "      <td>R</td>\n",
       "      <td>1</td>\n",
       "      <td>1</td>\n",
       "      <td>1</td>\n",
       "      <td>3</td>\n",
       "    </tr>\n",
       "    <tr>\n",
       "      <th>3</th>\n",
       "      <td>R</td>\n",
       "      <td>1</td>\n",
       "      <td>1</td>\n",
       "      <td>1</td>\n",
       "      <td>4</td>\n",
       "    </tr>\n",
       "    <tr>\n",
       "      <th>4</th>\n",
       "      <td>R</td>\n",
       "      <td>1</td>\n",
       "      <td>1</td>\n",
       "      <td>1</td>\n",
       "      <td>5</td>\n",
       "    </tr>\n",
       "  </tbody>\n",
       "</table>\n",
       "</div>"
      ],
      "text/plain": [
       "  Class Name  Left weight  Left distance  Right weight  Right distance\n",
       "0          B            1              1             1               1\n",
       "1          R            1              1             1               2\n",
       "2          R            1              1             1               3\n",
       "3          R            1              1             1               4\n",
       "4          R            1              1             1               5"
      ]
     },
     "metadata": {},
     "execution_count": 5
    }
   ],
   "metadata": {}
  },
  {
   "cell_type": "code",
   "execution_count": 6,
   "source": [
    "sb.countplot(df['Class Name'])"
   ],
   "outputs": [
    {
     "output_type": "stream",
     "name": "stderr",
     "text": [
      "/home/sachin108/.local/lib/python3.8/site-packages/seaborn/_decorators.py:36: FutureWarning: Pass the following variable as a keyword arg: x. From version 0.12, the only valid positional argument will be `data`, and passing other arguments without an explicit keyword will result in an error or misinterpretation.\n",
      "  warnings.warn(\n"
     ]
    },
    {
     "output_type": "execute_result",
     "data": {
      "text/plain": [
       "<AxesSubplot:xlabel='Class Name', ylabel='count'>"
      ]
     },
     "metadata": {},
     "execution_count": 6
    },
    {
     "output_type": "display_data",
     "data": {
      "image/png": "[encoded data removed]",
      "text/plain": [
       "<Figure size 432x288 with 1 Axes>"
      ]
     },
     "metadata": {
      "needs_background": "light"
     }
    }
   ],
   "metadata": {}
  },
  {
   "cell_type": "code",
   "execution_count": 7,
   "source": [
    "sb.countplot(df['Left weight'] ,hue=df['Class Name'])"
   ],
   "outputs": [
    {
     "output_type": "stream",
     "name": "stderr",
     "text": [
      "/home/sachin108/.local/lib/python3.8/site-packages/seaborn/_decorators.py:36: FutureWarning: Pass the following variable as a keyword arg: x. From version 0.12, the only valid positional argument will be `data`, and passing other arguments without an explicit keyword will result in an error or misinterpretation.\n",
      "  warnings.warn(\n"
     ]
    },
    {
     "output_type": "execute_result",
     "data": {
      "text/plain": [
       "<AxesSubplot:xlabel='Left weight', ylabel='count'>"
      ]
     },
     "metadata": {},
     "execution_count": 7
    },
    {
     "output_type": "display_data",
     "data": {
      "image/png": "[encoded data removed]",
      "text/plain": [
       "<Figure size 432x288 with 1 Axes>"
      ]
     },
     "metadata": {
      "needs_background": "light"
     }
    }
   ],
   "metadata": {}
  },
  {
   "cell_type": "code",
   "execution_count": 8,
   "source": [
    "sb.countplot(df['Right weight'], hue=df['Class Name'])"
   ],
   "outputs": [
    {
     "output_type": "stream",
     "name": "stderr",
     "text": [
      "/home/sachin108/.local/lib/python3.8/site-packages/seaborn/_decorators.py:36: FutureWarning: Pass the following variable as a keyword arg: x. From version 0.12, the only valid positional argument will be `data`, and passing other arguments without an explicit keyword will result in an error or misinterpretation.\n",
      "  warnings.warn(\n"
     ]
    },
    {
     "output_type": "execute_result",
     "data": {
      "text/plain": [
       "<AxesSubplot:xlabel='Right weight', ylabel='count'>"
      ]
     },
     "metadata": {},
     "execution_count": 8
    },
    {
     "output_type": "display_data",
     "data": {
      "image/png": "[encoded data removed]",
      "text/plain": [
       "<Figure size 432x288 with 1 Axes>"
      ]
     },
     "metadata": {
      "needs_background": "light"
     }
    }
   ],
   "metadata": {}
  },
  {
   "cell_type": "code",
   "execution_count": 9,
   "source": [
    "from sklearn.model_selection import train_test_split\n",
    "x=df.drop('Class Name', axis=1) #parameter axis=1 refer to columns, while 0 refers to rows\n",
    "y=df[['Class Name']]\n",
    "x_train, x_test, y_train, y_test=train_test_split(x, y, test_size=0.3, random_state=42)"
   ],
   "outputs": [],
   "metadata": {}
  },
  {
   "cell_type": "code",
   "execution_count": 10,
   "source": [
    "from sklearn.tree import DecisionTreeClassifier\n",
    "model=DecisionTreeClassifier(criterion='gini', random_state=42, max_depth=3, min_samples_leaf=5)\n",
    "model.fit(x_train, y_train)\n",
    "\n",
    "# criterion = The function to measure the quality of a split.\n",
    "# max_depth = The maximum depth of the tree.\n",
    "# min_samples_leaf = The minimum number of samples required to be at a leaf node."
   ],
   "outputs": [
    {
     "output_type": "execute_result",
     "data": {
      "text/plain": [
       "DecisionTreeClassifier(max_depth=3, min_samples_leaf=5, random_state=42)"
      ]
     },
     "metadata": {},
     "execution_count": 10
    }
   ],
   "metadata": {}
  },
  {
   "cell_type": "code",
   "execution_count": 11,
   "source": [
    "y_predict=model.predict(x_test)\n"
   ],
   "outputs": [],
   "metadata": {}
  },
  {
   "cell_type": "code",
   "execution_count": 12,
   "source": [
    "from sklearn.metrics import accuracy_score,classification_report,confusion_matrix\n",
    "accuracy_score(y_test,y_predict)"
   ],
   "outputs": [
    {
     "output_type": "execute_result",
     "data": {
      "text/plain": [
       "0.7021276595744681"
      ]
     },
     "metadata": {},
     "execution_count": 12
    }
   ],
   "metadata": {}
  },
  {
   "cell_type": "code",
   "execution_count": 13,
   "source": [
    "target=list(df['Class Name'].unique())\n",
    "features=list(x.columns)"
   ],
   "outputs": [],
   "metadata": {}
  },
  {
   "cell_type": "code",
   "execution_count": 14,
   "source": [
    "from sklearn import tree\n",
    "import graphviz\n",
    "dot_data = tree.export_graphviz(model, out_file=None, \n",
    "                      feature_names=features,  \n",
    "                      class_names=target,  \n",
    "                      filled=True, rounded=True,  \n",
    "                      special_characters=True)  \n",
    "graph = graphviz.Source(dot_data)  "
   ],
   "outputs": [],
   "metadata": {}
  },
  {
   "cell_type": "code",
   "execution_count": 15,
   "source": [
    "graph"
   ],
   "outputs": [
    {
     "output_type": "execute_result",
     "data": {
      "image/svg+xml": "<?xml version=\"1.0\" encoding=\"UTF-8\" standalone=\"no\"?>\n<!DOCTYPE svg PUBLIC \"-//W3C//DTD SVG 1.1//EN\"\n \"http://www.w3.org/Graphics/SVG/1.1/DTD/svg11.dtd\">\n<!-- Generated by graphviz version 2.43.0 (0)\n -->\n<!-- Title: Tree Pages: 1 -->\n<svg width=\"1284pt\" height=\"433pt\"\n viewBox=\"0.00 0.00 1284.00 433.00\" xmlns=\"http://www.w3.org/2000/svg\" xmlns:xlink=\"http://www.w3.org/1999/xlink\">\n<g id=\"graph0\" class=\"graph\" transform=\"scale(1 1) rotate(0) translate(4 429)\">\n<title>Tree</title>\n<polygon fill=\"white\" stroke=\"transparent\" points=\"-4,4 -4,-429 1280,-429 1280,4 -4,4\"/>\n<!-- 0 -->\n<g id=\"node1\" class=\"node\">\n<title>0</title>\n<path fill=\"#f7fefa\" stroke=\"black\" d=\"M691.5,-425C691.5,-425 539.5,-425 539.5,-425 533.5,-425 527.5,-419 527.5,-413 527.5,-413 527.5,-354 527.5,-354 527.5,-348 533.5,-342 539.5,-342 539.5,-342 691.5,-342 691.5,-342 697.5,-342 703.5,-348 703.5,-354 703.5,-354 703.5,-413 703.5,-413 703.5,-419 697.5,-425 691.5,-425\"/>\n<text text-anchor=\"start\" x=\"555\" y=\"-409.8\" font-family=\"Helvetica,sans-Serif\" font-size=\"14.00\">Left weight ≤ 2.5</text>\n<text text-anchor=\"start\" x=\"571.5\" y=\"-394.8\" font-family=\"Helvetica,sans-Serif\" font-size=\"14.00\">gini = 0.563</text>\n<text text-anchor=\"start\" x=\"562.5\" y=\"-379.8\" font-family=\"Helvetica,sans-Serif\" font-size=\"14.00\">samples = 437</text>\n<text text-anchor=\"start\" x=\"535.5\" y=\"-364.8\" font-family=\"Helvetica,sans-Serif\" font-size=\"14.00\">value = [31, 208, 198]</text>\n<text text-anchor=\"start\" x=\"582.5\" y=\"-349.8\" font-family=\"Helvetica,sans-Serif\" font-size=\"14.00\">class = R</text>\n</g>\n<!-- 1 -->\n<g id=\"node2\" class=\"node\">\n<title>1</title>\n<path fill=\"#b48af0\" stroke=\"black\" d=\"M528,-306C528,-306 385,-306 385,-306 379,-306 373,-300 373,-294 373,-294 373,-235 373,-235 373,-229 379,-223 385,-223 385,-223 528,-223 528,-223 534,-223 540,-229 540,-235 540,-235 540,-294 540,-294 540,-300 534,-306 528,-306\"/>\n<text text-anchor=\"start\" x=\"384.5\" y=\"-290.8\" font-family=\"Helvetica,sans-Serif\" font-size=\"14.00\">Right distance ≤ 1.5</text>\n<text text-anchor=\"start\" x=\"412.5\" y=\"-275.8\" font-family=\"Helvetica,sans-Serif\" font-size=\"14.00\">gini = 0.461</text>\n<text text-anchor=\"start\" x=\"403.5\" y=\"-260.8\" font-family=\"Helvetica,sans-Serif\" font-size=\"14.00\">samples = 171</text>\n<text text-anchor=\"start\" x=\"381\" y=\"-245.8\" font-family=\"Helvetica,sans-Serif\" font-size=\"14.00\">value = [12, 41, 118]</text>\n<text text-anchor=\"start\" x=\"424.5\" y=\"-230.8\" font-family=\"Helvetica,sans-Serif\" font-size=\"14.00\">class = L</text>\n</g>\n<!-- 0&#45;&gt;1 -->\n<g id=\"edge1\" class=\"edge\">\n<title>0&#45;&gt;1</title>\n<path fill=\"none\" stroke=\"black\" d=\"M560.34,-341.91C547.26,-332.29 533.22,-321.95 519.82,-312.09\"/>\n<polygon fill=\"black\" stroke=\"black\" points=\"521.7,-309.13 511.57,-306.02 517.55,-314.77 521.7,-309.13\"/>\n<text text-anchor=\"middle\" x=\"515.33\" y=\"-327.04\" font-family=\"Helvetica,sans-Serif\" font-size=\"14.00\">True</text>\n</g>\n<!-- 8 -->\n<g id=\"node9\" class=\"node\">\n<title>8</title>\n<path fill=\"#a2f3c4\" stroke=\"black\" d=\"M857,-306C857,-306 714,-306 714,-306 708,-306 702,-300 702,-294 702,-294 702,-235 702,-235 702,-229 708,-223 714,-223 714,-223 857,-223 857,-223 863,-223 869,-229 869,-235 869,-235 869,-294 869,-294 869,-300 863,-306 857,-306\"/>\n<text text-anchor=\"start\" x=\"719\" y=\"-290.8\" font-family=\"Helvetica,sans-Serif\" font-size=\"14.00\">Left distance ≤ 2.5</text>\n<text text-anchor=\"start\" x=\"746\" y=\"-275.8\" font-family=\"Helvetica,sans-Serif\" font-size=\"14.00\">gini = 0.51</text>\n<text text-anchor=\"start\" x=\"732.5\" y=\"-260.8\" font-family=\"Helvetica,sans-Serif\" font-size=\"14.00\">samples = 266</text>\n<text text-anchor=\"start\" x=\"710\" y=\"-245.8\" font-family=\"Helvetica,sans-Serif\" font-size=\"14.00\">value = [19, 167, 80]</text>\n<text text-anchor=\"start\" x=\"752.5\" y=\"-230.8\" font-family=\"Helvetica,sans-Serif\" font-size=\"14.00\">class = R</text>\n</g>\n<!-- 0&#45;&gt;8 -->\n<g id=\"edge8\" class=\"edge\">\n<title>0&#45;&gt;8</title>\n<path fill=\"none\" stroke=\"black\" d=\"M674.48,-341.91C688.59,-332.2 703.76,-321.76 718.21,-311.81\"/>\n<polygon fill=\"black\" stroke=\"black\" points=\"720.37,-314.57 726.62,-306.02 716.4,-308.81 720.37,-314.57\"/>\n<text text-anchor=\"middle\" x=\"722.08\" y=\"-326.91\" font-family=\"Helvetica,sans-Serif\" font-size=\"14.00\">False</text>\n</g>\n<!-- 2 -->\n<g id=\"node3\" class=\"node\">\n<title>2</title>\n<path fill=\"#94f1bb\" stroke=\"black\" d=\"M282,-187C282,-187 157,-187 157,-187 151,-187 145,-181 145,-175 145,-175 145,-116 145,-116 145,-110 151,-104 157,-104 157,-104 282,-104 282,-104 288,-104 294,-110 294,-116 294,-116 294,-175 294,-175 294,-181 288,-187 282,-187\"/>\n<text text-anchor=\"start\" x=\"153\" y=\"-171.8\" font-family=\"Helvetica,sans-Serif\" font-size=\"14.00\">Left distance ≤ 2.5</text>\n<text text-anchor=\"start\" x=\"175.5\" y=\"-156.8\" font-family=\"Helvetica,sans-Serif\" font-size=\"14.00\">gini = 0.498</text>\n<text text-anchor=\"start\" x=\"171\" y=\"-141.8\" font-family=\"Helvetica,sans-Serif\" font-size=\"14.00\">samples = 32</text>\n<text text-anchor=\"start\" x=\"157.5\" y=\"-126.8\" font-family=\"Helvetica,sans-Serif\" font-size=\"14.00\">value = [3, 21, 8]</text>\n<text text-anchor=\"start\" x=\"186.5\" y=\"-111.8\" font-family=\"Helvetica,sans-Serif\" font-size=\"14.00\">class = R</text>\n</g>\n<!-- 1&#45;&gt;2 -->\n<g id=\"edge2\" class=\"edge\">\n<title>1&#45;&gt;2</title>\n<path fill=\"none\" stroke=\"black\" d=\"M374.27,-222.91C351.26,-211.55 326.22,-199.19 303.13,-187.78\"/>\n<polygon fill=\"black\" stroke=\"black\" points=\"304.56,-184.59 294.04,-183.3 301.46,-190.86 304.56,-184.59\"/>\n</g>\n<!-- 5 -->\n<g id=\"node6\" class=\"node\">\n<title>5</title>\n<path fill=\"#a069eb\" stroke=\"black\" d=\"M523.5,-187C523.5,-187 389.5,-187 389.5,-187 383.5,-187 377.5,-181 377.5,-175 377.5,-175 377.5,-116 377.5,-116 377.5,-110 383.5,-104 389.5,-104 389.5,-104 523.5,-104 523.5,-104 529.5,-104 535.5,-110 535.5,-116 535.5,-116 535.5,-175 535.5,-175 535.5,-181 529.5,-187 523.5,-187\"/>\n<text text-anchor=\"start\" x=\"390.5\" y=\"-171.8\" font-family=\"Helvetica,sans-Serif\" font-size=\"14.00\">Right weight ≤ 2.5</text>\n<text text-anchor=\"start\" x=\"412.5\" y=\"-156.8\" font-family=\"Helvetica,sans-Serif\" font-size=\"14.00\">gini = 0.349</text>\n<text text-anchor=\"start\" x=\"403.5\" y=\"-141.8\" font-family=\"Helvetica,sans-Serif\" font-size=\"14.00\">samples = 139</text>\n<text text-anchor=\"start\" x=\"385.5\" y=\"-126.8\" font-family=\"Helvetica,sans-Serif\" font-size=\"14.00\">value = [9, 20, 110]</text>\n<text text-anchor=\"start\" x=\"424.5\" y=\"-111.8\" font-family=\"Helvetica,sans-Serif\" font-size=\"14.00\">class = L</text>\n</g>\n<!-- 1&#45;&gt;5 -->\n<g id=\"edge5\" class=\"edge\">\n<title>1&#45;&gt;5</title>\n<path fill=\"none\" stroke=\"black\" d=\"M456.5,-222.91C456.5,-214.65 456.5,-205.86 456.5,-197.3\"/>\n<polygon fill=\"black\" stroke=\"black\" points=\"460,-197.02 456.5,-187.02 453,-197.02 460,-197.02\"/>\n</g>\n<!-- 3 -->\n<g id=\"node4\" class=\"node\">\n<title>3</title>\n<path fill=\"#e0cef8\" stroke=\"black\" d=\"M119,-68C119,-68 12,-68 12,-68 6,-68 0,-62 0,-56 0,-56 0,-12 0,-12 0,-6 6,0 12,0 12,0 119,0 119,0 125,0 131,-6 131,-12 131,-12 131,-56 131,-56 131,-62 125,-68 119,-68\"/>\n<text text-anchor=\"start\" x=\"21.5\" y=\"-52.8\" font-family=\"Helvetica,sans-Serif\" font-size=\"14.00\">gini = 0.611</text>\n<text text-anchor=\"start\" x=\"17\" y=\"-37.8\" font-family=\"Helvetica,sans-Serif\" font-size=\"14.00\">samples = 12</text>\n<text text-anchor=\"start\" x=\"8\" y=\"-22.8\" font-family=\"Helvetica,sans-Serif\" font-size=\"14.00\">value = [2, 4, 6]</text>\n<text text-anchor=\"start\" x=\"33.5\" y=\"-7.8\" font-family=\"Helvetica,sans-Serif\" font-size=\"14.00\">class = L</text>\n</g>\n<!-- 2&#45;&gt;3 -->\n<g id=\"edge3\" class=\"edge\">\n<title>2&#45;&gt;3</title>\n<path fill=\"none\" stroke=\"black\" d=\"M162.16,-103.73C148.56,-94.06 134.09,-83.77 120.59,-74.17\"/>\n<polygon fill=\"black\" stroke=\"black\" points=\"122.51,-71.24 112.33,-68.3 118.45,-76.95 122.51,-71.24\"/>\n</g>\n<!-- 4 -->\n<g id=\"node5\" class=\"node\">\n<title>4</title>\n<path fill=\"#5ae996\" stroke=\"black\" d=\"M277.5,-68C277.5,-68 161.5,-68 161.5,-68 155.5,-68 149.5,-62 149.5,-56 149.5,-56 149.5,-12 149.5,-12 149.5,-6 155.5,0 161.5,0 161.5,0 277.5,0 277.5,0 283.5,0 289.5,-6 289.5,-12 289.5,-12 289.5,-56 289.5,-56 289.5,-62 283.5,-68 277.5,-68\"/>\n<text text-anchor=\"start\" x=\"175.5\" y=\"-52.8\" font-family=\"Helvetica,sans-Serif\" font-size=\"14.00\">gini = 0.265</text>\n<text text-anchor=\"start\" x=\"171\" y=\"-37.8\" font-family=\"Helvetica,sans-Serif\" font-size=\"14.00\">samples = 20</text>\n<text text-anchor=\"start\" x=\"157.5\" y=\"-22.8\" font-family=\"Helvetica,sans-Serif\" font-size=\"14.00\">value = [1, 17, 2]</text>\n<text text-anchor=\"start\" x=\"186.5\" y=\"-7.8\" font-family=\"Helvetica,sans-Serif\" font-size=\"14.00\">class = R</text>\n</g>\n<!-- 2&#45;&gt;4 -->\n<g id=\"edge4\" class=\"edge\">\n<title>2&#45;&gt;4</title>\n<path fill=\"none\" stroke=\"black\" d=\"M219.5,-103.73C219.5,-95.52 219.5,-86.86 219.5,-78.56\"/>\n<polygon fill=\"black\" stroke=\"black\" points=\"223,-78.3 219.5,-68.3 216,-78.3 223,-78.3\"/>\n</g>\n<!-- 6 -->\n<g id=\"node7\" class=\"node\">\n<title>6</title>\n<path fill=\"#dcc7f8\" stroke=\"black\" d=\"M445,-68C445,-68 320,-68 320,-68 314,-68 308,-62 308,-56 308,-56 308,-12 308,-12 308,-6 314,0 320,0 320,0 445,0 445,0 451,0 457,-6 457,-12 457,-12 457,-56 457,-56 457,-62 451,-68 445,-68\"/>\n<text text-anchor=\"start\" x=\"338.5\" y=\"-52.8\" font-family=\"Helvetica,sans-Serif\" font-size=\"14.00\">gini = 0.583</text>\n<text text-anchor=\"start\" x=\"334\" y=\"-37.8\" font-family=\"Helvetica,sans-Serif\" font-size=\"14.00\">samples = 49</text>\n<text text-anchor=\"start\" x=\"316\" y=\"-22.8\" font-family=\"Helvetica,sans-Serif\" font-size=\"14.00\">value = [6, 17, 26]</text>\n<text text-anchor=\"start\" x=\"350.5\" y=\"-7.8\" font-family=\"Helvetica,sans-Serif\" font-size=\"14.00\">class = L</text>\n</g>\n<!-- 5&#45;&gt;6 -->\n<g id=\"edge6\" class=\"edge\">\n<title>5&#45;&gt;6</title>\n<path fill=\"none\" stroke=\"black\" d=\"M428.95,-103.73C422.97,-94.88 416.63,-85.51 410.63,-76.63\"/>\n<polygon fill=\"black\" stroke=\"black\" points=\"413.5,-74.63 405,-68.3 407.7,-78.54 413.5,-74.63\"/>\n</g>\n<!-- 7 -->\n<g id=\"node8\" class=\"node\">\n<title>7</title>\n<path fill=\"#8a47e7\" stroke=\"black\" d=\"M603.5,-68C603.5,-68 487.5,-68 487.5,-68 481.5,-68 475.5,-62 475.5,-56 475.5,-56 475.5,-12 475.5,-12 475.5,-6 481.5,0 487.5,0 487.5,0 603.5,0 603.5,0 609.5,0 615.5,-6 615.5,-12 615.5,-12 615.5,-56 615.5,-56 615.5,-62 609.5,-68 603.5,-68\"/>\n<text text-anchor=\"start\" x=\"501.5\" y=\"-52.8\" font-family=\"Helvetica,sans-Serif\" font-size=\"14.00\">gini = 0.127</text>\n<text text-anchor=\"start\" x=\"497\" y=\"-37.8\" font-family=\"Helvetica,sans-Serif\" font-size=\"14.00\">samples = 90</text>\n<text text-anchor=\"start\" x=\"483.5\" y=\"-22.8\" font-family=\"Helvetica,sans-Serif\" font-size=\"14.00\">value = [3, 3, 84]</text>\n<text text-anchor=\"start\" x=\"513.5\" y=\"-7.8\" font-family=\"Helvetica,sans-Serif\" font-size=\"14.00\">class = L</text>\n</g>\n<!-- 5&#45;&gt;7 -->\n<g id=\"edge7\" class=\"edge\">\n<title>5&#45;&gt;7</title>\n<path fill=\"none\" stroke=\"black\" d=\"M489.64,-103.73C496.98,-94.7 504.76,-85.12 512.11,-76.08\"/>\n<polygon fill=\"black\" stroke=\"black\" points=\"514.84,-78.27 518.43,-68.3 509.41,-73.85 514.84,-78.27\"/>\n</g>\n<!-- 9 -->\n<g id=\"node10\" class=\"node\">\n<title>9</title>\n<path fill=\"#dac5f7\" stroke=\"black\" d=\"M848,-187C848,-187 723,-187 723,-187 717,-187 711,-181 711,-175 711,-175 711,-116 711,-116 711,-110 717,-104 723,-104 723,-104 848,-104 848,-104 854,-104 860,-110 860,-116 860,-116 860,-175 860,-175 860,-181 854,-187 848,-187\"/>\n<text text-anchor=\"start\" x=\"719.5\" y=\"-171.8\" font-family=\"Helvetica,sans-Serif\" font-size=\"14.00\">Right weight ≤ 2.5</text>\n<text text-anchor=\"start\" x=\"741.5\" y=\"-156.8\" font-family=\"Helvetica,sans-Serif\" font-size=\"14.00\">gini = 0.544</text>\n<text text-anchor=\"start\" x=\"732.5\" y=\"-141.8\" font-family=\"Helvetica,sans-Serif\" font-size=\"14.00\">samples = 104</text>\n<text text-anchor=\"start\" x=\"719\" y=\"-126.8\" font-family=\"Helvetica,sans-Serif\" font-size=\"14.00\">value = [7, 39, 58]</text>\n<text text-anchor=\"start\" x=\"753.5\" y=\"-111.8\" font-family=\"Helvetica,sans-Serif\" font-size=\"14.00\">class = L</text>\n</g>\n<!-- 8&#45;&gt;9 -->\n<g id=\"edge9\" class=\"edge\">\n<title>8&#45;&gt;9</title>\n<path fill=\"none\" stroke=\"black\" d=\"M785.5,-222.91C785.5,-214.65 785.5,-205.86 785.5,-197.3\"/>\n<polygon fill=\"black\" stroke=\"black\" points=\"789,-197.02 785.5,-187.02 782,-197.02 789,-197.02\"/>\n</g>\n<!-- 12 -->\n<g id=\"node13\" class=\"node\">\n<title>12</title>\n<path fill=\"#69eba0\" stroke=\"black\" d=\"M1110,-187C1110,-187 967,-187 967,-187 961,-187 955,-181 955,-175 955,-175 955,-116 955,-116 955,-110 961,-104 967,-104 967,-104 1110,-104 1110,-104 1116,-104 1122,-110 1122,-116 1122,-116 1122,-175 1122,-175 1122,-181 1116,-187 1110,-187\"/>\n<text text-anchor=\"start\" x=\"966.5\" y=\"-171.8\" font-family=\"Helvetica,sans-Serif\" font-size=\"14.00\">Right distance ≤ 3.5</text>\n<text text-anchor=\"start\" x=\"994.5\" y=\"-156.8\" font-family=\"Helvetica,sans-Serif\" font-size=\"14.00\">gini = 0.352</text>\n<text text-anchor=\"start\" x=\"985.5\" y=\"-141.8\" font-family=\"Helvetica,sans-Serif\" font-size=\"14.00\">samples = 162</text>\n<text text-anchor=\"start\" x=\"963\" y=\"-126.8\" font-family=\"Helvetica,sans-Serif\" font-size=\"14.00\">value = [12, 128, 22]</text>\n<text text-anchor=\"start\" x=\"1005.5\" y=\"-111.8\" font-family=\"Helvetica,sans-Serif\" font-size=\"14.00\">class = R</text>\n</g>\n<!-- 8&#45;&gt;12 -->\n<g id=\"edge12\" class=\"edge\">\n<title>8&#45;&gt;12</title>\n<path fill=\"none\" stroke=\"black\" d=\"M869.04,-224.87C893.53,-213.54 920.45,-201.09 945.48,-189.52\"/>\n<polygon fill=\"black\" stroke=\"black\" points=\"947.01,-192.67 954.61,-185.29 944.07,-186.31 947.01,-192.67\"/>\n</g>\n<!-- 10 -->\n<g id=\"node11\" class=\"node\">\n<title>10</title>\n<path fill=\"#8df0b6\" stroke=\"black\" d=\"M771,-68C771,-68 646,-68 646,-68 640,-68 634,-62 634,-56 634,-56 634,-12 634,-12 634,-6 640,0 646,0 646,0 771,0 771,0 777,0 783,-6 783,-12 783,-12 783,-56 783,-56 783,-62 777,-68 771,-68\"/>\n<text text-anchor=\"start\" x=\"664.5\" y=\"-52.8\" font-family=\"Helvetica,sans-Serif\" font-size=\"14.00\">gini = 0.482</text>\n<text text-anchor=\"start\" x=\"660\" y=\"-37.8\" font-family=\"Helvetica,sans-Serif\" font-size=\"14.00\">samples = 43</text>\n<text text-anchor=\"start\" x=\"642\" y=\"-22.8\" font-family=\"Helvetica,sans-Serif\" font-size=\"14.00\">value = [4, 29, 10]</text>\n<text text-anchor=\"start\" x=\"675.5\" y=\"-7.8\" font-family=\"Helvetica,sans-Serif\" font-size=\"14.00\">class = R</text>\n</g>\n<!-- 9&#45;&gt;10 -->\n<g id=\"edge10\" class=\"edge\">\n<title>9&#45;&gt;10</title>\n<path fill=\"none\" stroke=\"black\" d=\"M756.83,-103.73C750.61,-94.88 744.02,-85.51 737.77,-76.63\"/>\n<polygon fill=\"black\" stroke=\"black\" points=\"740.53,-74.47 731.92,-68.3 734.81,-78.49 740.53,-74.47\"/>\n</g>\n<!-- 11 -->\n<g id=\"node12\" class=\"node\">\n<title>11</title>\n<path fill=\"#a16bec\" stroke=\"black\" d=\"M938,-68C938,-68 813,-68 813,-68 807,-68 801,-62 801,-56 801,-56 801,-12 801,-12 801,-6 807,0 813,0 813,0 938,0 938,0 944,0 950,-6 950,-12 950,-12 950,-56 950,-56 950,-62 944,-68 938,-68\"/>\n<text text-anchor=\"start\" x=\"831.5\" y=\"-52.8\" font-family=\"Helvetica,sans-Serif\" font-size=\"14.00\">gini = 0.352</text>\n<text text-anchor=\"start\" x=\"827\" y=\"-37.8\" font-family=\"Helvetica,sans-Serif\" font-size=\"14.00\">samples = 61</text>\n<text text-anchor=\"start\" x=\"809\" y=\"-22.8\" font-family=\"Helvetica,sans-Serif\" font-size=\"14.00\">value = [3, 10, 48]</text>\n<text text-anchor=\"start\" x=\"843.5\" y=\"-7.8\" font-family=\"Helvetica,sans-Serif\" font-size=\"14.00\">class = L</text>\n</g>\n<!-- 9&#45;&gt;11 -->\n<g id=\"edge11\" class=\"edge\">\n<title>9&#45;&gt;11</title>\n<path fill=\"none\" stroke=\"black\" d=\"M819.01,-103.73C826.43,-94.7 834.3,-85.12 841.73,-76.08\"/>\n<polygon fill=\"black\" stroke=\"black\" points=\"844.48,-78.25 848.13,-68.3 839.08,-73.8 844.48,-78.25\"/>\n</g>\n<!-- 13 -->\n<g id=\"node14\" class=\"node\">\n<title>13</title>\n<path fill=\"#47e78a\" stroke=\"black\" d=\"M1096.5,-68C1096.5,-68 980.5,-68 980.5,-68 974.5,-68 968.5,-62 968.5,-56 968.5,-56 968.5,-12 968.5,-12 968.5,-6 974.5,0 980.5,0 980.5,0 1096.5,0 1096.5,0 1102.5,0 1108.5,-6 1108.5,-12 1108.5,-12 1108.5,-56 1108.5,-56 1108.5,-62 1102.5,-68 1096.5,-68\"/>\n<text text-anchor=\"start\" x=\"994.5\" y=\"-52.8\" font-family=\"Helvetica,sans-Serif\" font-size=\"14.00\">gini = 0.133</text>\n<text text-anchor=\"start\" x=\"985.5\" y=\"-37.8\" font-family=\"Helvetica,sans-Serif\" font-size=\"14.00\">samples = 100</text>\n<text text-anchor=\"start\" x=\"976.5\" y=\"-22.8\" font-family=\"Helvetica,sans-Serif\" font-size=\"14.00\">value = [4, 93, 3]</text>\n<text text-anchor=\"start\" x=\"1005.5\" y=\"-7.8\" font-family=\"Helvetica,sans-Serif\" font-size=\"14.00\">class = R</text>\n</g>\n<!-- 12&#45;&gt;13 -->\n<g id=\"edge13\" class=\"edge\">\n<title>12&#45;&gt;13</title>\n<path fill=\"none\" stroke=\"black\" d=\"M1038.5,-103.73C1038.5,-95.52 1038.5,-86.86 1038.5,-78.56\"/>\n<polygon fill=\"black\" stroke=\"black\" points=\"1042,-78.3 1038.5,-68.3 1035,-78.3 1042,-78.3\"/>\n</g>\n<!-- 14 -->\n<g id=\"node15\" class=\"node\">\n<title>14</title>\n<path fill=\"#b5f5d0\" stroke=\"black\" d=\"M1264,-68C1264,-68 1139,-68 1139,-68 1133,-68 1127,-62 1127,-56 1127,-56 1127,-12 1127,-12 1127,-6 1133,0 1139,0 1139,0 1264,0 1264,0 1270,0 1276,-6 1276,-12 1276,-12 1276,-56 1276,-56 1276,-62 1270,-68 1264,-68\"/>\n<text text-anchor=\"start\" x=\"1157.5\" y=\"-52.8\" font-family=\"Helvetica,sans-Serif\" font-size=\"14.00\">gini = 0.571</text>\n<text text-anchor=\"start\" x=\"1153\" y=\"-37.8\" font-family=\"Helvetica,sans-Serif\" font-size=\"14.00\">samples = 62</text>\n<text text-anchor=\"start\" x=\"1135\" y=\"-22.8\" font-family=\"Helvetica,sans-Serif\" font-size=\"14.00\">value = [8, 35, 19]</text>\n<text text-anchor=\"start\" x=\"1168.5\" y=\"-7.8\" font-family=\"Helvetica,sans-Serif\" font-size=\"14.00\">class = R</text>\n</g>\n<!-- 12&#45;&gt;14 -->\n<g id=\"edge14\" class=\"edge\">\n<title>12&#45;&gt;14</title>\n<path fill=\"none\" stroke=\"black\" d=\"M1099.2,-103.73C1113.8,-93.92 1129.36,-83.46 1143.82,-73.75\"/>\n<polygon fill=\"black\" stroke=\"black\" points=\"1145.84,-76.61 1152.19,-68.13 1141.94,-70.8 1145.84,-76.61\"/>\n</g>\n</g>\n</svg>\n",
      "text/plain": [
       "<graphviz.sources.Source at 0x7fe50f66b040>"
      ]
     },
     "metadata": {},
     "execution_count": 15
    }
   ],
   "metadata": {}
  }
 ],
 "metadata": {
  "orig_nbformat": 4,
  "language_info": {
   "name": "python",
   "version": "3.8.10",
   "mimetype": "text/x-python",
   "codemirror_mode": {
    "name": "ipython",
    "version": 3
   },
   "pygments_lexer": "ipython3",
   "nbconvert_exporter": "python",
   "file_extension": ".py"
  },
  "kernelspec": {
   "name": "python3",
   "display_name": "Python 3.8.10 64-bit"
  },
  "interpreter": {
   "hash": "916dbcbb3f70747c44a77c7bcd40155683ae19c65e1c03b4aa3499c5328201f1"
  }
 },
 "nbformat": 4,
 "nbformat_minor": 2
}